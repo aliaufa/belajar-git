{
 "cells": [
  {
   "cell_type": "markdown",
   "id": "08990311",
   "metadata": {},
   "source": [
    "# How to Clone and Accessing Repository"
   ]
  },
  {
   "cell_type": "markdown",
   "id": "a93c594e",
   "metadata": {},
   "source": [
    "## Clone Using SSH\n",
    "\n",
    "1. Harus ada Repositori Githubnya dulu. lalu copy URL SSH.\n",
    "2. Buka terminal (cmd, powershell, bash) dengan working directory di folder yang mana kita mau menyimpan repository tersebut.\n",
    "3. Dalam terminal gunakan command `git clone <url ssh>`\n",
    "4. repositori akan terbentuk di folder tersebut."
   ]
  },
  {
   "cell_type": "markdown",
   "id": "bd8ab350",
   "metadata": {},
   "source": [
    "Selanjutnya buka working directory di repositori-nya atau langsung buka vscode di repository"
   ]
  },
  {
   "cell_type": "markdown",
   "id": "5fbeb0fa",
   "metadata": {},
   "source": [
    "## Track and Commit File(s) Changes"
   ]
  }
 ],
 "metadata": {
  "language_info": {
   "name": "python"
  }
 },
 "nbformat": 4,
 "nbformat_minor": 5
}
